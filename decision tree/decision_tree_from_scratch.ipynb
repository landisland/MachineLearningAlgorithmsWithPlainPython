{
 "cells": [
  {
   "cell_type": "markdown",
   "id": "5c36c5f7",
   "metadata": {
    "id": "5c36c5f7"
   },
   "source": [
    "# Decision Tree From Scratch"
   ]
  },
  {
   "cell_type": "markdown",
   "id": "ef1b061a",
   "metadata": {
    "id": "ef1b061a"
   },
   "source": [
    "## Regression and Classification Trees"
   ]
  },
  {
   "cell_type": "markdown",
   "id": "a419604e",
   "metadata": {
    "id": "a419604e"
   },
   "source": [
    "Below is a suggested sequence of steps you may want to think along for building regression and classification trees.\n",
    "\n",
    "1. **Defining a criteria for splitting.**\n",
    "    1. This criteria assigns a score to a split.\n",
    "    1. For regression trees, this would be the mean squared error.\n",
    "    2. For decision trees, this would be the entropy.\n",
    "2. **Create the split.**\n",
    "    1. Split the dataset by iterating over all the rows and feature columns.\n",
    "    2. Evaluate all the splits using the splitting criteria.\n",
    "    3. Choose the best split.\n",
    "3. **Build the tree.**\n",
    "    1. Terminal nodes: decide when to stop growing a tree. This would be the maximum allowed depth of the tree or when a leaf is empty or has only 1 element.\n",
    "    2. Recursive splitting: once a split is created, you can split it further recursively by calling the same splitting function on it.\n",
    "    3. Building a tree: create a root node and apply recursive splitting on it.\n",
    "4. **Make predictions with the tree.**\n",
    "    1. For a given data point, make a prediction using the tree."
   ]
  },
  {
   "cell_type": "markdown",
   "id": "6bc18eb0",
   "metadata": {
    "id": "6bc18eb0"
   },
   "source": [
    "## Part 1 \n",
    "\n",
    "## Growing a maximum-depth regression tree\n",
    "\n",
    "The recursive procedure for growing a deep regression tree is illustrated in the figure below. We begin (on the left) by fitting a stump to the original dataset. As we move from left to right the recursion proceeds, with each leaf of the preceding tree split in order to create the next, deeper tree. As can be seen in the rightmost panel, a tree with maximum depth of four is capable of representing the training data perfectly.  \n",
    "\n",
    "![Error loading image](http://people.tamu.edu/~sumedhpendurkar/csce633/decision_tree_img.jpeg)\n",
    "\n",
    "**Peform the experiment shown in the figure by coding up a recursively defined regression tree. Instead of reproducing the plot, measure and plot the mean squared error (MSE) at each depth of your tree.**"
   ]
  },
  {
   "cell_type": "code",
   "execution_count": 1,
   "id": "b0ecfe6e",
   "metadata": {
    "id": "b0ecfe6e"
   },
   "outputs": [],
   "source": [
    "# Importing Libraries\n",
    "import numpy as np\n",
    "import pandas as pd\n",
    "import matplotlib.pyplot as plt\n",
    "%matplotlib inline"
   ]
  },
  {
   "cell_type": "code",
   "execution_count": 2,
   "id": "6001bc5e",
   "metadata": {
    "id": "6001bc5e"
   },
   "outputs": [],
   "source": [
    "csvname = 'http://people.tamu.edu/~sumedhpendurkar/csce633/noisy_sin_subsample_2.csv'\n",
    "data_regress = np.loadtxt(csvname, delimiter = ',')\n",
    "data_regress = np.array([[x, y] for x,y in zip(*data_regress)])"
   ]
  },
  {
   "cell_type": "code",
   "execution_count": 3,
   "id": "8ff3b31f",
   "metadata": {
    "id": "8ff3b31f"
   },
   "outputs": [
    {
     "data": {
      "image/png": "[encoded data removed]",
      "text/plain": [
       "<Figure size 432x288 with 1 Axes>"
      ]
     },
     "metadata": {
      "needs_background": "light"
     },
     "output_type": "display_data"
    }
   ],
   "source": [
    "# Plot the data\n",
    "plt.figure()\n",
    "plt.scatter(data_regress[:, 0], data_regress[:, 1])\n",
    "plt.xlabel(\"Features, x\")\n",
    "plt.ylabel(\"Target values, y\")\n",
    "plt.show()"
   ]
  },
  {
   "cell_type": "markdown",
   "id": "5f8993ec",
   "metadata": {
    "id": "5f8993ec"
   },
   "source": [
    "**Build the regression tree in the `TreeRegressor` class**.  \n",
    "***TIP:*** *If you are smart about building the regression tree, you can reuse most of the code for building the classification tree in Question 2.*"
   ]
  },
  {
   "cell_type": "code",
   "execution_count": 4,
   "id": "275fdf6f",
   "metadata": {
    "id": "275fdf6f"
   },
   "outputs": [],
   "source": [
    "class TreeRegressor():\n",
    "    def __init__(self, data, max_depth=1):\n",
    "        self.data = data # last element of each row in data is the target variable\n",
    "        self.max_depth = max_depth # maximum depth\n",
    "      \n",
    "        \n",
    "        #initialize a root node\n",
    "        self.root = None\n",
    "        self.min_samples_split = 2 # split when there are at least 2 samples\n",
    "    \n",
    "    def generate_tree(self, dataset, depth_now=0):\n",
    "        \"\"\"\n",
    "        Generates a tree recursively.\n",
    "        \n",
    "        Args:\n",
    "            dataset: array contains target value(Y) and feature value(X) \n",
    "        Returns:\n",
    "            tree: model we build\n",
    "        \"\"\"\n",
    "       \n",
    "        X, Y = dataset[:,:-1], dataset[:,-1]\n",
    "        num_samples, num_features = np.shape(X)\n",
    "        best_split = {}\n",
    "        # we try to split \"tree\" until certain criteria is met\n",
    "        if num_samples>=self.min_samples_split and depth_now<=self.max_depth:\n",
    "            # use iterative method to find the optimal split \n",
    "            best_split = self.optimal_split(dataset, num_samples, num_features)\n",
    "            # check whether we reduce the variance by splitting our tree into more branches\n",
    "            if best_split[\"var_red\"]>0:\n",
    "                # left branch\n",
    "                left_subtree = self.generate_tree(best_split[\"dataset_left\"], depth_now+1)\n",
    "                # right branch\n",
    "                right_subtree = self.generate_tree(best_split[\"dataset_right\"], depth_now+1)\n",
    "                \n",
    "                # return decision node, or say model we build\n",
    "                self.root = Node(best_split[\"feature_index\"], best_split[\"threshold\"], \n",
    "                            left_subtree, right_subtree, best_split[\"var_red\"])\n",
    "                \n",
    "                return Node(best_split[\"feature_index\"], best_split[\"threshold\"], \n",
    "                            left_subtree, right_subtree, best_split[\"var_red\"])\n",
    "        \n",
    "        # compute leaf node\n",
    "        leaf_value = self.calculate_leaf_value(Y)\n",
    "        # return leaf node\n",
    "        return Node(value=leaf_value)\n",
    "\n",
    "        \n",
    "     \n",
    "    def optimal_split(self, dataset, num_samples, num_features):\n",
    "        \"\"\"\n",
    "        return optimal split among splits\n",
    "        \"\"\"\n",
    "        \n",
    "        # we create a dictionary to store the best split\n",
    "        optimal_split = {}\n",
    "        max_var_red = -float(\"inf\")\n",
    "        \n",
    "        for feature_index in range(num_features):\n",
    "            feature_values = dataset[:, feature_index]\n",
    "            possible_thresholds = np.unique(feature_values)\n",
    "            # loop over all the feature values present in the data\n",
    "            for threshold in possible_thresholds:\n",
    "                # get current split\n",
    "                dataset_left, dataset_right = self.split(dataset, feature_index, threshold)\n",
    "                # check if childs are not null\n",
    "                if len(dataset_left)>0 and len(dataset_right)>0:\n",
    "                    y, left_y, right_y = dataset[:, -1], dataset_left[:, -1], dataset_right[:, -1]\n",
    "                    # compute information gain\n",
    "                    curr_var_red = self.variance_reduction(y, left_y, right_y)\n",
    "                    # update based on the result we get\n",
    "                    if curr_var_red>max_var_red:\n",
    "                        optimal_split[\"feature_index\"] = feature_index\n",
    "                        optimal_split[\"threshold\"] = threshold\n",
    "                        optimal_split[\"dataset_left\"] = dataset_left\n",
    "                        optimal_split[\"dataset_right\"] = dataset_right\n",
    "                        optimal_split[\"var_red\"] = curr_var_red\n",
    "                        max_var_red = curr_var_red\n",
    "                        \n",
    "        \n",
    "        return optimal_split\n",
    "    \n",
    "    \n",
    "    def split(self, dataset, feature_index, threshold):\n",
    "        \"\"\"\n",
    "        return one single split: split data according to the threshold\n",
    "        \"\"\"\n",
    "        \n",
    "        dataset_left = np.array([row for row in dataset if row[feature_index]<=threshold])\n",
    "        dataset_right = np.array([row for row in dataset if row[feature_index]>threshold])\n",
    "        return dataset_left, dataset_right\n",
    "    \n",
    "    def variance_reduction(self, parent, l_child, r_child):\n",
    "        \n",
    "        weight_l = len(l_child) / len(parent)\n",
    "        weight_r = len(r_child) / len(parent)\n",
    "        reduction = np.var(parent) - (weight_l * np.var(l_child) + weight_r * np.var(r_child))\n",
    "        return reduction\n",
    "    \n",
    "    def calculate_leaf_value(self, Y):\n",
    "        '''compute leaf node '''\n",
    "        \n",
    "        leaf_value = np.mean(Y)\n",
    "        return leaf_value\n",
    "                \n",
    "    \n",
    "    def fit(self, X, Y):\n",
    "        ''' build the model'''\n",
    "        \n",
    "        dataset = np.concatenate((X, Y), axis=1)\n",
    "        self.root = self.generate_tree(dataset)\n",
    "        \n",
    "    def dataset_prediction(self, x, tree):\n",
    "        \n",
    "        if tree.value!=None: return tree.value\n",
    "        feature_val = x[tree.feature_index]\n",
    "        if feature_val<=tree.threshold:\n",
    "            return self.dataset_prediction(x, tree.left)\n",
    "        else:\n",
    "            return self.dataset_prediction(x, tree.right)\n",
    "    \n",
    "    def predict(self, X):\n",
    "        preditions = [self.dataset_prediction(x, self.root) for x in X]\n",
    "        return preditions"
   ]
  },
  {
   "cell_type": "code",
   "execution_count": 5,
   "id": "0f24e740",
   "metadata": {},
   "outputs": [],
   "source": [
    "class Node():\n",
    "    def __init__(self, feature_index=None, threshold=None, left=None, right=None, var_red=None, value=None):\n",
    "        ''' constructor ''' \n",
    "        \n",
    "        # nodes for making decision (left or right)\n",
    "        self.feature_index = feature_index\n",
    "        self.threshold = threshold\n",
    "        self.left = left\n",
    "        self.right = right\n",
    "        self.var_red = var_red\n",
    "        \n",
    "        # external node\n",
    "        self.value = value"
   ]
  },
  {
   "cell_type": "markdown",
   "id": "e4210437",
   "metadata": {
    "id": "e4210437"
   },
   "source": [
    "**Plot the MSE at each depth of your tree**"
   ]
  },
  {
   "cell_type": "code",
   "execution_count": 7,
   "id": "3db0f4b2",
   "metadata": {
    "id": "3db0f4b2"
   },
   "outputs": [],
   "source": [
    "mse_depths = []\n",
    "for depth in range(1, 5):\n",
    "    # Create a regression tree object\n",
    "    regressor = TreeRegressor(data_regress, depth)\n",
    "    X_data = data_regress[:,:-1]\n",
    "    Y_data = data_regress[:,-1].reshape(-1,1)\n",
    "    # Train the tree\n",
    "    tree = regressor.generate_tree(data_regress)\n",
    "    regressor.fit(X_data,Y_data)\n",
    "    mse = 0.0\n",
    "    predict_data = regressor.predict(data_regress[:,:-1])\n",
    "    #for data_point in predict_data:\n",
    "        #mse += (data_point[-1] - regressor.predict(data_point[:-1]))**2\n",
    "    for i in range(len(predict_data)):\n",
    "        mse += (predict_data[i] - Y_data[i][0])**2\n",
    "    #print(regressor.predict(data_regress[:,:-1]))\n",
    "    mse_depths.append(mse/len(data_regress))"
   ]
  },
  {
   "cell_type": "code",
   "execution_count": 8,
   "id": "80f2b91d",
   "metadata": {
    "id": "80f2b91d"
   },
   "outputs": [
    {
     "data": {
      "image/png": "[encoded data removed]",
      "text/plain": [
       "<Figure size 432x288 with 1 Axes>"
      ]
     },
     "metadata": {
      "needs_background": "light"
     },
     "output_type": "display_data"
    }
   ],
   "source": [
    "# Plot the MSE\n",
    "plt.figure()\n",
    "plt.plot(mse_depths, '-o')\n",
    "plt.xlabel(\"Depth\")\n",
    "plt.ylabel(\"MSE\")\n",
    "plt.show()"
   ]
  },
  {
   "cell_type": "markdown",
   "id": "496655c9",
   "metadata": {
    "id": "496655c9"
   },
   "source": [
    "## Part 2 \n",
    "\n",
    "## Growing a two-class classification tree\n",
    "\n",
    "The figure below shows the growth of a tree to a maximum depth of seven on a two-class classification dataset. As the tree grows, note how many parts of the input space do not change as leaves on the deeper branches become *pure*. By the time we reach a maximum depth of seven, there is considerable overfitting. \n",
    "\n",
    "![Error loading image](http://people.tamu.edu/~sumedhpendurkar/csce633/decision_tree_img_2.jpeg)\n",
    "\n",
    "**Perform the experiment shown in figure by coding up a recursively defined two-class classification tree. Instead of reproducing the plot, measure and plot the classification accuracy at each depth of your tree.**"
   ]
  },
  {
   "cell_type": "code",
   "execution_count": 9,
   "id": "c5da5319",
   "metadata": {
    "id": "c5da5319"
   },
   "outputs": [],
   "source": [
    "csvname = 'http://people.tamu.edu/~sumedhpendurkar/csce633/new_circle_data.csv'\n",
    "data_class = np.loadtxt(csvname, delimiter = ',')\n",
    "data_class = np.array([[x1, x2, y] for x1,x2,y in zip(*data_class)])"
   ]
  },
  {
   "cell_type": "code",
   "execution_count": 10,
   "id": "3e0dae6f",
   "metadata": {
    "id": "3e0dae6f",
    "scrolled": true
   },
   "outputs": [
    {
     "data": {
      "image/png": "[encoded data removed]",
      "text/plain": [
       "<Figure size 432x288 with 1 Axes>"
      ]
     },
     "metadata": {
      "needs_background": "light"
     },
     "output_type": "display_data"
    }
   ],
   "source": [
    "# Plot the data\n",
    "plt.figure()\n",
    "plt.scatter(data_class[:, 0], data_class[:, 1], c=-data_class[:, 2], cmap='bwr')\n",
    "plt.xlabel(\"Features, x1\")\n",
    "plt.ylabel(\"Features, x2\")\n",
    "plt.show()"
   ]
  },
  {
   "cell_type": "code",
   "execution_count": 11,
   "id": "121d3dd8",
   "metadata": {},
   "outputs": [],
   "source": [
    "class Node():\n",
    "    def __init__(self, feature_index=None, threshold=None, left=None, right=None, info_gain=None, value=None):\n",
    "        \n",
    "        # nodes for making decision (left or right)\n",
    "        self.feature_index = feature_index\n",
    "        self.threshold = threshold\n",
    "        self.left = left\n",
    "        self.right = right\n",
    "        self.info_gain = info_gain\n",
    "        \n",
    "        # for external node\n",
    "        self.value = value"
   ]
  },
  {
   "cell_type": "code",
   "execution_count": 12,
   "id": "e824dc56",
   "metadata": {},
   "outputs": [],
   "source": [
    "class TreeClassifier():\n",
    "    def __init__(self, data, max_depth=1):\n",
    "        self.data = data # last element of each row in data is the target variable\n",
    "        self.max_depth = max_depth # maximum depth\n",
    "        \n",
    "        self.root = None\n",
    "        self.min_samples_split = 2 # at least split 2\n",
    "    \n",
    "    def generate_tree(self, dataset, depth_now=0):\n",
    "        \"\"\"\n",
    "        Generates a tree recursively.\n",
    "        \"\"\"\n",
    "\n",
    "        X, Y = dataset[:,:-1], dataset[:,-1]\n",
    "        num_samples, num_features = np.shape(X)\n",
    "        best_split = {}\n",
    "        # use iterative method to find the optimal split \n",
    "        if num_samples>=self.min_samples_split and depth_now<=self.max_depth:\n",
    "            # find the optimal split\n",
    "            best_split = self.optimal_split(dataset, num_samples, num_features)\n",
    "            # check if IG entropy is positive\n",
    "            if best_split[\"info_gain\"]>0:\n",
    "                # left tree\n",
    "                left_subtree = self.generate_tree(best_split[\"dataset_left\"], depth_now+1)\n",
    "                # right tree\n",
    "                right_subtree = self.generate_tree(best_split[\"dataset_right\"], depth_now+1)\n",
    "                \n",
    "                \n",
    "                #self.root = Node(best_split[\"feature_index\"], best_split[\"threshold\"], \n",
    "                #            left_subtree, right_subtree, best_split[\"info_gain\"])\n",
    "                \n",
    "                return Node(best_split[\"feature_index\"], best_split[\"threshold\"], \n",
    "                            left_subtree, right_subtree, best_split[\"info_gain\"])\n",
    "        \n",
    "        # compute leaf node\n",
    "        leaf_value = self.calculate_leaf_value(Y)\n",
    "        # return leaf node\n",
    "        return Node(value=leaf_value)\n",
    "    \n",
    "    \n",
    "        \n",
    "     \n",
    "                        \n",
    "    def optimal_split(self, dataset, num_samples, num_features):\n",
    "        ''' get optimal split '''\n",
    "        \n",
    "        # dictionary to store the best split\n",
    "        optimal_split = {}\n",
    "        max_info_gain = -float(\"inf\")\n",
    "        \n",
    "        # loop over all the features\n",
    "        for feature_index in range(num_features):\n",
    "            feature_values = dataset[:, feature_index]\n",
    "            possible_thresholds = np.unique(feature_values)\n",
    "            # loop over all the feature values present in the data\n",
    "            for threshold in possible_thresholds:\n",
    "                # get current split\n",
    "                dataset_left, dataset_right = self.split(dataset, feature_index, threshold)\n",
    "                # check if childs are not null\n",
    "                if len(dataset_left)>0 and len(dataset_right)>0:\n",
    "                    y, left_y, right_y = dataset[:, -1], dataset_left[:, -1], dataset_right[:, -1]\n",
    "                    # compute information gain\n",
    "                    curr_info_gain = self.information_gain(y, left_y, right_y)\n",
    "                    # update the best split if needed\n",
    "                    if curr_info_gain>max_info_gain:\n",
    "                        optimal_split[\"feature_index\"] = feature_index\n",
    "                        optimal_split[\"threshold\"] = threshold\n",
    "                        optimal_split[\"dataset_left\"] = dataset_left\n",
    "                        optimal_split[\"dataset_right\"] = dataset_right\n",
    "                        optimal_split[\"info_gain\"] = curr_info_gain\n",
    "                        max_info_gain = curr_info_gain\n",
    "                        \n",
    "        \n",
    "        return optimal_split\n",
    "    \n",
    "    \n",
    "    def split(self, dataset, feature_index, threshold):\n",
    "        \n",
    "        dataset_left = np.array([row for row in dataset if row[feature_index]<=threshold])\n",
    "        dataset_right = np.array([row for row in dataset if row[feature_index]>threshold])\n",
    "        return dataset_left, dataset_right\n",
    "    \n",
    "    \n",
    "    def entropy(self, y):\n",
    "        ''' function to compute entropy '''\n",
    "        \n",
    "        class_labels = np.unique(y)\n",
    "        entropy = 0\n",
    "        for cls in class_labels:\n",
    "            p_cls = len(y[y == cls]) / len(y)\n",
    "            entropy += -p_cls * np.log2(p_cls)\n",
    "        return entropy\n",
    "    \n",
    "    def information_gain(self, parent, l_child, r_child):\n",
    "        ''' function to compute information gain '''\n",
    "\n",
    "        weight_l = len(l_child) / len(parent)\n",
    "        weight_r = len(r_child) / len(parent)\n",
    "       \n",
    "        gain = self.entropy(parent) - (weight_l*self.entropy(l_child) + weight_r*self.entropy(r_child))\n",
    "        return gain\n",
    "    \n",
    "    def calculate_leaf_value(self, Y):\n",
    "        \n",
    "        Y = list(Y)\n",
    "        return max(Y, key=Y.count)\n",
    "                \n",
    "   \n",
    "    def fit(self, X, Y):\n",
    "        ''' build the tree model'''\n",
    "        \n",
    "        dataset = np.concatenate((X, Y), axis=1)\n",
    "        self.root = self.generate_tree(dataset)\n",
    "        \n",
    "    def dataset_prediction(self, x, tree):\n",
    "        ''' predict new dataset '''\n",
    "        \n",
    "        if tree.value!=None: return tree.value\n",
    "        feature_val = x[tree.feature_index]\n",
    "        if feature_val<=tree.threshold:\n",
    "            return self.dataset_prediction(x, tree.left)\n",
    "        else:\n",
    "            return self.dataset_prediction(x, tree.right)\n",
    "    \n",
    "    def predict(self, X):\n",
    "        ''' predict a single data point '''\n",
    "        \n",
    "        preditions = [self.dataset_prediction(x, self.root) for x in X]\n",
    "        return preditions"
   ]
  },
  {
   "cell_type": "code",
   "execution_count": 15,
   "id": "9217e449",
   "metadata": {},
   "outputs": [],
   "source": [
    "mse_depths = []\n",
    "for depth in range(1, 5):\n",
    "    # Create a regression tree object\n",
    "    regressor = TreeRegressor(data_regress, depth)\n",
    "    X_data = data_regress[:,:-1]\n",
    "    Y_data = data_regress[:,-1].reshape(-1,1)\n",
    "    # Train the tree\n",
    "    tree = regressor.generate_tree(data_regress)\n",
    "    regressor.fit(X_data,Y_data)\n",
    "    mse = 0.0\n",
    "    predict_data = regressor.predict(X_data)\n",
    "    #for data_point in predict_data:\n",
    "        #mse += (data_point[-1] - regressor.predict(data_point[:-1]))**2\n",
    "    for i in range(len(predict_data)):\n",
    "        mse += (predict_data[i] - Y_data[i][0])**2\n",
    "    #print(regressor.predict(data_regress[:,:-1]))\n",
    "    mse_depths.append(mse/len(data_regress))"
   ]
  },
  {
   "cell_type": "markdown",
   "id": "264bc194",
   "metadata": {
    "id": "264bc194"
   },
   "source": [
    "**Plot the classification accuracy at each depth of your tree.**"
   ]
  },
  {
   "cell_type": "code",
   "execution_count": 16,
   "id": "2c438299",
   "metadata": {
    "id": "2c438299"
   },
   "outputs": [],
   "source": [
    "accuracy_depths = []\n",
    "for depth in range(1, 8):\n",
    "    # Create a classification tree object\n",
    "    classifier = TreeClassifier(data_class, depth)\n",
    "    X_data = data_class[:,:-1]\n",
    "    Y_data = data_class[:,-1].reshape(-1,1)\n",
    "    # Train the tree\n",
    "    tree = classifier.generate_tree(data_class)\n",
    "    classifier.fit(X_data,Y_data)\n",
    "    caccuracy = 0.0\n",
    "    #for data_point in data_class:\n",
    "    #     correct += float(data_point[-1] == predict(tree, data_point[:-1]))\n",
    "    predict_value = classifier.predict(X_data)\n",
    "    accuracy = (predict_value == Y_data).mean()\n",
    "    #accuracy_depths.append(correct/len(data_class))\n",
    "    accuracy_depths.append(accuracy)"
   ]
  },
  {
   "cell_type": "code",
   "execution_count": 17,
   "id": "06fab926",
   "metadata": {
    "id": "06fab926"
   },
   "outputs": [
    {
     "data": {
      "image/png": "[encoded data removed]",
      "text/plain": [
       "<Figure size 432x288 with 1 Axes>"
      ]
     },
     "metadata": {
      "needs_background": "light"
     },
     "output_type": "display_data"
    }
   ],
   "source": [
    "# Plot the Accuracy\n",
    "plt.figure()\n",
    "plt.plot(accuracy_depths, '-o')\n",
    "plt.xlabel(\"Depth\")\n",
    "plt.ylabel(\"Accuracy\")\n",
    "plt.show()"
   ]
  },
  {
   "cell_type": "code",
   "execution_count": null,
   "id": "2edaa85e",
   "metadata": {},
   "outputs": [],
   "source": []
  }
 ],
 "metadata": {
  "colab": {
   "collapsed_sections": [],
   "name": "pa4-decision-trees.ipynb",
   "provenance": []
  },
  "kernelspec": {
   "display_name": "Python 3",
   "language": "python",
   "name": "python3"
  },
  "language_info": {
   "codemirror_mode": {
    "name": "ipython",
    "version": 3
   },
   "file_extension": ".py",
   "mimetype": "text/x-python",
   "name": "python",
   "nbconvert_exporter": "python",
   "pygments_lexer": "ipython3",
   "version": "3.8.8"
  }
 },
 "nbformat": 4,
 "nbformat_minor": 5
}
