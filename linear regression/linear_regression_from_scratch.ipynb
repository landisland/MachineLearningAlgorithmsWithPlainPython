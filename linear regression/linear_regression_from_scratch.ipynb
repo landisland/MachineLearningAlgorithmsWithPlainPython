{
 "cells": [
  {
   "cell_type": "markdown",
   "id": "16e4e933",
   "metadata": {},
   "source": [
    "# Linear Regression in plain Python"
   ]
  },
  {
   "cell_type": "markdown",
   "id": "578e47ed",
   "metadata": {},
   "source": [
    "## 1. What is linear regression"
   ]
  },
  {
   "cell_type": "markdown",
   "id": "5348e498",
   "metadata": {},
   "source": [
    "* Linear: graph **is** a straight line\n",
    "* Non-linear: graph **is not** a straight line\n",
    "* regression: when we try to measure or predict something, the value we get is estimator, which means it's not the real value, we measure tons of times to get as close to the real value as possible, and use these estimated values to **regress** to real value, this is why we call it regression. "
   ]
  },
  {
   "cell_type": "markdown",
   "id": "531d7e65",
   "metadata": {},
   "source": [
    "## 2. What regression can be used for"
   ]
  },
  {
   "cell_type": "markdown",
   "id": "dd9fa142",
   "metadata": {},
   "source": [
    "We can process a great amout of observed data and try to come up with a formula, which means we want to find out the relatinship among the data, hence we can simulate the results.\n",
    "\n",
    "E.g. House pricing prediction, Credit predciton."
   ]
  },
  {
   "cell_type": "markdown",
   "id": "a03def57",
   "metadata": {},
   "source": [
    "## 3. General form of formula"
   ]
  },
  {
   "cell_type": "markdown",
   "id": "11a4f054",
   "metadata": {},
   "source": [
    "![](https://github.com/zotroneneis/machine_learning_basics/raw/a3a4c68c81b8f71c792340de5d4ab67ae333afa1//figures/linear_regression.jpg)"
   ]
  },
  {
   "cell_type": "markdown",
   "id": "e92f585b",
   "metadata": {},
   "source": [
    "$$Y = \\omega X + b$$"
   ]
  },
  {
   "cell_type": "markdown",
   "id": "bf58b122",
   "metadata": {},
   "source": [
    "where $\\omega$ is the coefficient, b is the bias."
   ]
  },
  {
   "cell_type": "markdown",
   "id": "7dd6d99b",
   "metadata": {},
   "source": [
    "## 4. How to calculate (with Loss Function)"
   ]
  },
  {
   "cell_type": "markdown",
   "id": "76936d1b",
   "metadata": {},
   "source": [
    "$$J=\\frac{1}{2 m} \\sum_{m}^{i=1}\\left(y^{\\prime}-y\\right)^{2}$$"
   ]
  },
  {
   "cell_type": "markdown",
   "id": "5ddeb24d",
   "metadata": {},
   "source": [
    "We can use **gradient descent method** to find the minimul value (minimum square error), which means we minimize the error, and get optimal $\\omega$ and $b$."
   ]
  },
  {
   "cell_type": "markdown",
   "id": "31e06950",
   "metadata": {},
   "source": [
    "## 5. Tickle with overfitting and underfitting using regularization"
   ]
  },
  {
   "cell_type": "markdown",
   "id": "8752ede1",
   "metadata": {},
   "source": [
    "We add a parameter in the loss function to regularization it , so we can:\n",
    "* control parameter, and limit the output of our model in a certain range\n",
    "* limit parameter searching space\n",
    "* deal with overfitting and underfitting\n"
   ]
  },
  {
   "cell_type": "markdown",
   "id": "0ad9e487",
   "metadata": {},
   "source": [
    "### 5.2 L2 Regularization"
   ]
  },
  {
   "cell_type": "markdown",
   "id": "021c7432",
   "metadata": {},
   "source": [
    "$$J_0=\\frac{1}{2 m} \\sum_{m}^{i=1}\\left(y^{\\prime}-y\\right)^{2}$$"
   ]
  },
  {
   "cell_type": "markdown",
   "id": "e58077b1",
   "metadata": {},
   "source": [
    "$$J=J_{0}+\\lambda \\sum_{w} w^{2}$$"
   ]
  },
  {
   "cell_type": "markdown",
   "id": "6a272ff0",
   "metadata": {},
   "source": [
    "$J_0$ is the function in 4"
   ]
  },
  {
   "cell_type": "markdown",
   "id": "5dfa9729",
   "metadata": {},
   "source": [
    "When to use L2 Regularization: Our model is a **linear** model, and number of input features's dimensions is small."
   ]
  },
  {
   "cell_type": "markdown",
   "id": "adf0ca20",
   "metadata": {},
   "source": [
    "### 5.3 L1 Regularization (Lasso Regularization)"
   ]
  },
  {
   "cell_type": "markdown",
   "id": "7ca3f140",
   "metadata": {},
   "source": [
    "$$J_0=\\frac{1}{2 m} \\sum_{m}^{i=1}\\left(y^{\\prime}-y\\right)^{2}$$"
   ]
  },
  {
   "cell_type": "markdown",
   "id": "db68cc5d",
   "metadata": {},
   "source": [
    "$$J=J_{0}+\\lambda\\left(\\left|w_{1}\\right|+\\left|w_{2}\\right|\\right)$$"
   ]
  },
  {
   "cell_type": "markdown",
   "id": "a014bee6",
   "metadata": {},
   "source": [
    "### 5.4 ElasticNet Regression"
   ]
  },
  {
   "cell_type": "markdown",
   "id": "951f2fe7",
   "metadata": {},
   "source": [
    "$$\\min \\left(\\frac{1}{2 m}\\left[\\sum_{i=1}^{m}\\left(y_{i}{ }^{\\prime}-y_{i}\\right)^{2}+\\lambda \\sum_{j=1}^{n} \\theta_{j}^{2}\\right]+\\lambda \\sum_{j=1}^{n}|\\theta|\\right)$$"
   ]
  },
  {
   "cell_type": "code",
   "execution_count": 5,
   "id": "e9abfad8",
   "metadata": {},
   "outputs": [],
   "source": [
    "import numpy as np\n",
    "import matplotlib.pyplot as plt\n",
    "from sklearn.model_selection import train_test_split\n",
    "\n",
    "np.random.seed(801)"
   ]
  },
  {
   "cell_type": "markdown",
   "id": "5ab77247",
   "metadata": {},
   "source": [
    "## Create Dataset "
   ]
  },
  {
   "cell_type": "code",
   "execution_count": 6,
   "id": "ffa026da",
   "metadata": {},
   "outputs": [
    {
     "data": {
      "image/png": "[encoded data removed]",
      "text/plain": [
       "<Figure size 576x432 with 1 Axes>"
      ]
     },
     "metadata": {
      "needs_background": "light"
     },
     "output_type": "display_data"
    }
   ],
   "source": [
    "\n",
    "X = 2 * np.random.rand(500, 1)\n",
    "y = 5 + 3 * X + np.random.randn(500, 1)\n",
    "\n",
    "fig = plt.figure(figsize=(8,6))\n",
    "plt.scatter(X, y)\n",
    "plt.title(\"Dataset\")\n",
    "plt.xlabel(\"First feature\")\n",
    "plt.ylabel(\"Second feature\")\n",
    "plt.show()"
   ]
  },
  {
   "cell_type": "code",
   "execution_count": 7,
   "id": "3d9b050f",
   "metadata": {},
   "outputs": [
    {
     "name": "stdout",
     "output_type": "stream",
     "text": [
      "Shape X_train: (375, 1)\n",
      "Shape y_train: (375, 1)\n",
      "Shape X_test: (125, 1)\n",
      "Shape y_test: (125, 1)\n"
     ]
    }
   ],
   "source": [
    "# Split the data into a training and test set\n",
    "X_train, X_test, y_train, y_test = train_test_split(X, y)\n",
    "\n",
    "print(f'Shape X_train: {X_train.shape}')\n",
    "print(f'Shape y_train: {y_train.shape}')\n",
    "print(f'Shape X_test: {X_test.shape}')\n",
    "print(f'Shape y_test: {y_test.shape}')"
   ]
  },
  {
   "cell_type": "markdown",
   "id": "2f680ed9",
   "metadata": {},
   "source": [
    "## Linear regression class"
   ]
  },
  {
   "cell_type": "code",
   "execution_count": 8,
   "id": "6cbfb86d",
   "metadata": {},
   "outputs": [],
   "source": [
    "class LinearRegression:\n",
    "    \n",
    "    def __init__(self):\n",
    "        pass\n",
    "\n",
    "    def train_gradient_descent(self, X, y, learning_rate=0.01, n_iters=100):\n",
    "        \"\"\"\n",
    "        Trains a linear regression model using gradient descent\n",
    "        \"\"\"\n",
    "        # Step 0: Initialize the parameters\n",
    "        n_samples, n_features = X.shape\n",
    "        self.weights = np.zeros(shape=(n_features,1))\n",
    "        self.bias = 0\n",
    "        costs = []\n",
    "\n",
    "        for i in range(n_iters):\n",
    "            # Step 1: Compute a linear combination of the input features and weights\n",
    "            y_predict = np.dot(X, self.weights) + self.bias\n",
    "\n",
    "            # Step 2: Compute cost over training set\n",
    "            cost = (1 / n_samples) * np.sum((y_predict - y)**2)\n",
    "            costs.append(cost)\n",
    "\n",
    "            if i % 100 == 0:\n",
    "                print(f\"Cost at iteration {i}: {cost}\")\n",
    "\n",
    "            # Step 3: Compute the gradients\n",
    "            dJ_dw = (2 / n_samples) * np.dot(X.T, (y_predict - y))\n",
    "            dJ_db = (2 / n_samples) * np.sum((y_predict - y)) \n",
    "            \n",
    "            # Step 4: Update the parameters\n",
    "            self.weights = self.weights - learning_rate * dJ_dw\n",
    "            self.bias = self.bias - learning_rate * dJ_db\n",
    "\n",
    "        return self.weights, self.bias, costs\n",
    "\n",
    "    def train_normal_equation(self, X, y):\n",
    "        \"\"\"\n",
    "        Trains a linear regression model using the normal equation\n",
    "        \"\"\"\n",
    "        self.weights = np.dot(np.dot(np.linalg.inv(np.dot(X.T, X)), X.T), y)\n",
    "        self.bias = 0\n",
    "        \n",
    "        return self.weights, self.bias\n",
    "\n",
    "    def predict(self, X):\n",
    "        return np.dot(X, self.weights) + self.bias"
   ]
  },
  {
   "cell_type": "markdown",
   "id": "a0772807",
   "metadata": {},
   "source": [
    "## Training with gradient descent"
   ]
  },
  {
   "cell_type": "code",
   "execution_count": 9,
   "id": "7bc48d4b",
   "metadata": {},
   "outputs": [
    {
     "name": "stdout",
     "output_type": "stream",
     "text": [
      "Cost at iteration 0: 67.99991665102361\n",
      "Cost at iteration 100: 2.1366350933128633\n",
      "Cost at iteration 200: 1.2305354180837023\n",
      "Cost at iteration 300: 1.1479544106692658\n",
      "Cost at iteration 400: 1.0945799691324822\n",
      "Cost at iteration 500: 1.0555571606795968\n"
     ]
    },
    {
     "data": {
      "image/png": "[encoded data removed]",
      "text/plain": [
       "<Figure size 576x432 with 1 Axes>"
      ]
     },
     "metadata": {
      "needs_background": "light"
     },
     "output_type": "display_data"
    }
   ],
   "source": [
    "regressor = LinearRegression()\n",
    "w_trained, b_trained, costs = regressor.train_gradient_descent(X_train, y_train, learning_rate=0.005, n_iters=600)\n",
    "\n",
    "fig = plt.figure(figsize=(8,6))\n",
    "plt.plot(np.arange(600), costs)\n",
    "plt.title(\"Development of cost during training\")\n",
    "plt.xlabel(\"Number of iterations\")\n",
    "plt.ylabel(\"Cost\")\n",
    "plt.show()"
   ]
  },
  {
   "cell_type": "markdown",
   "id": "b5c926dd",
   "metadata": {},
   "source": [
    "## Testing (gradient descent model)"
   ]
  },
  {
   "cell_type": "code",
   "execution_count": 10,
   "id": "d0367d08",
   "metadata": {},
   "outputs": [
    {
     "name": "stdout",
     "output_type": "stream",
     "text": [
      "Error on training set: 1.027\n",
      "Error on test set: 1.0\n"
     ]
    }
   ],
   "source": [
    "n_samples, _ = X_train.shape\n",
    "n_samples_test, _ = X_test.shape\n",
    "\n",
    "y_p_train = regressor.predict(X_train)\n",
    "y_p_test = regressor.predict(X_test)\n",
    "\n",
    "error_train =  (1 / n_samples) * np.sum((y_p_train - y_train) ** 2)\n",
    "error_test =  (1 / n_samples_test) * np.sum((y_p_test - y_test) ** 2)\n",
    "\n",
    "print(f\"Error on training set: {np.round(error_train, 4)}\")\n",
    "print(f\"Error on test set: {np.round(error_test)}\")"
   ]
  },
  {
   "cell_type": "markdown",
   "id": "8000c311",
   "metadata": {},
   "source": [
    "## Visualize test predictions"
   ]
  },
  {
   "cell_type": "code",
   "execution_count": 11,
   "id": "bc86218d",
   "metadata": {},
   "outputs": [
    {
     "data": {
      "image/png": "[encoded data removed]",
      "text/plain": [
       "<Figure size 576x432 with 1 Axes>"
      ]
     },
     "metadata": {
      "needs_background": "light"
     },
     "output_type": "display_data"
    }
   ],
   "source": [
    "# Plot the test predictions\n",
    "\n",
    "fig = plt.figure(figsize=(8,6))\n",
    "plt.title(\"Dataset in blue, predictions for test set in orange\")\n",
    "plt.scatter(X_train, y_train)\n",
    "plt.scatter(X_test, y_p_test)\n",
    "plt.xlabel(\"First feature\")\n",
    "plt.ylabel(\"Second feature\")\n",
    "plt.show()"
   ]
  },
  {
   "cell_type": "code",
   "execution_count": null,
   "id": "bc0e4bf8",
   "metadata": {},
   "outputs": [],
   "source": []
  }
 ],
 "metadata": {
  "kernelspec": {
   "display_name": "Python 3",
   "language": "python",
   "name": "python3"
  },
  "language_info": {
   "codemirror_mode": {
    "name": "ipython",
    "version": 3
   },
   "file_extension": ".py",
   "mimetype": "text/x-python",
   "name": "python",
   "nbconvert_exporter": "python",
   "pygments_lexer": "ipython3",
   "version": "3.8.8"
  }
 },
 "nbformat": 4,
 "nbformat_minor": 5
}
